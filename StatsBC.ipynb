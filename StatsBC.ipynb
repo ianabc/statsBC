{
 "cells": [
  {
   "cell_type": "code",
   "execution_count": 4,
   "metadata": {},
   "outputs": [],
   "source": [
    "import pandas as pd\n",
    "import matplotlib.pyplot as plt\n",
    "\n",
    "import matplotlib\n",
    "matplotlib.rcParams['figure.figsize'] = [16,10]\n",
    "%matplotlib inline"
   ]
  },
  {
   "cell_type": "code",
   "execution_count": 5,
   "metadata": {},
   "outputs": [],
   "source": [
    "url = 'http://www.bcstats.gov.bc.ca/Files/0dc3a42c-666c-4ad8-b713-18aea6d76fbb/BCquarterlypopulationestimates.csv'\n",
    "\n",
    "BCPopDF = pd.read_csv(url, \n",
    "                      skiprows=[0,1,24,25,26,27], \n",
    "                      skipfooter=9, \n",
    "                      engine='python',\n",
    "                      na_values='-',\n",
    "                      index_col='Year'\n",
    "                     )"
   ]
  },
  {
   "cell_type": "code",
   "execution_count": 6,
   "metadata": {},
   "outputs": [
    {
     "data": {
      "text/html": [
       "<div>\n",
       "<style scoped>\n",
       "    .dataframe tbody tr th:only-of-type {\n",
       "        vertical-align: middle;\n",
       "    }\n",
       "\n",
       "    .dataframe tbody tr th {\n",
       "        vertical-align: top;\n",
       "    }\n",
       "\n",
       "    .dataframe thead th {\n",
       "        text-align: right;\n",
       "    }\n",
       "</style>\n",
       "<table border=\"1\" class=\"dataframe\">\n",
       "  <thead>\n",
       "    <tr style=\"text-align: right;\">\n",
       "      <th></th>\n",
       "      <th>Jan. 1</th>\n",
       "      <th>Apr. 1</th>\n",
       "      <th>Jul. 1</th>\n",
       "      <th>Oct. 1</th>\n",
       "    </tr>\n",
       "    <tr>\n",
       "      <th>Year</th>\n",
       "      <th></th>\n",
       "      <th></th>\n",
       "      <th></th>\n",
       "      <th></th>\n",
       "    </tr>\n",
       "  </thead>\n",
       "  <tbody>\n",
       "    <tr>\n",
       "      <th>1951</th>\n",
       "      <td>NaN</td>\n",
       "      <td>NaN</td>\n",
       "      <td>1168000.0</td>\n",
       "      <td>1179000.0</td>\n",
       "    </tr>\n",
       "    <tr>\n",
       "      <th>1952</th>\n",
       "      <td>1189000.0</td>\n",
       "      <td>1198000.0</td>\n",
       "      <td>1209000.0</td>\n",
       "      <td>1222000.0</td>\n",
       "    </tr>\n",
       "    <tr>\n",
       "      <th>1953</th>\n",
       "      <td>1233000.0</td>\n",
       "      <td>1242000.0</td>\n",
       "      <td>1253000.0</td>\n",
       "      <td>1265000.0</td>\n",
       "    </tr>\n",
       "    <tr>\n",
       "      <th>1954</th>\n",
       "      <td>1278000.0</td>\n",
       "      <td>1288000.0</td>\n",
       "      <td>1299000.0</td>\n",
       "      <td>1311000.0</td>\n",
       "    </tr>\n",
       "    <tr>\n",
       "      <th>1955</th>\n",
       "      <td>1323000.0</td>\n",
       "      <td>1334000.0</td>\n",
       "      <td>1347000.0</td>\n",
       "      <td>1362000.0</td>\n",
       "    </tr>\n",
       "  </tbody>\n",
       "</table>\n",
       "</div>"
      ],
      "text/plain": [
       "         Jan. 1     Apr. 1     Jul. 1     Oct. 1\n",
       "Year                                            \n",
       "1951        NaN        NaN  1168000.0  1179000.0\n",
       "1952  1189000.0  1198000.0  1209000.0  1222000.0\n",
       "1953  1233000.0  1242000.0  1253000.0  1265000.0\n",
       "1954  1278000.0  1288000.0  1299000.0  1311000.0\n",
       "1955  1323000.0  1334000.0  1347000.0  1362000.0"
      ]
     },
     "execution_count": 6,
     "metadata": {},
     "output_type": "execute_result"
    }
   ],
   "source": [
    "BCPopDF.head()"
   ]
  },
  {
   "cell_type": "code",
   "execution_count": 7,
   "metadata": {},
   "outputs": [
    {
     "data": {
      "text/html": [
       "<div>\n",
       "<style scoped>\n",
       "    .dataframe tbody tr th:only-of-type {\n",
       "        vertical-align: middle;\n",
       "    }\n",
       "\n",
       "    .dataframe tbody tr th {\n",
       "        vertical-align: top;\n",
       "    }\n",
       "\n",
       "    .dataframe thead th {\n",
       "        text-align: right;\n",
       "    }\n",
       "</style>\n",
       "<table border=\"1\" class=\"dataframe\">\n",
       "  <thead>\n",
       "    <tr style=\"text-align: right;\">\n",
       "      <th></th>\n",
       "      <th>Jan. 1</th>\n",
       "      <th>Apr. 1</th>\n",
       "      <th>Jul. 1</th>\n",
       "      <th>Oct. 1</th>\n",
       "      <th>mean</th>\n",
       "    </tr>\n",
       "    <tr>\n",
       "      <th>Year</th>\n",
       "      <th></th>\n",
       "      <th></th>\n",
       "      <th></th>\n",
       "      <th></th>\n",
       "      <th></th>\n",
       "    </tr>\n",
       "  </thead>\n",
       "  <tbody>\n",
       "    <tr>\n",
       "      <th>1951</th>\n",
       "      <td>NaN</td>\n",
       "      <td>NaN</td>\n",
       "      <td>1168000.0</td>\n",
       "      <td>1179000.0</td>\n",
       "      <td>1173500.0</td>\n",
       "    </tr>\n",
       "    <tr>\n",
       "      <th>1952</th>\n",
       "      <td>1189000.0</td>\n",
       "      <td>1198000.0</td>\n",
       "      <td>1209000.0</td>\n",
       "      <td>1222000.0</td>\n",
       "      <td>1204500.0</td>\n",
       "    </tr>\n",
       "    <tr>\n",
       "      <th>1953</th>\n",
       "      <td>1233000.0</td>\n",
       "      <td>1242000.0</td>\n",
       "      <td>1253000.0</td>\n",
       "      <td>1265000.0</td>\n",
       "      <td>1248250.0</td>\n",
       "    </tr>\n",
       "    <tr>\n",
       "      <th>1954</th>\n",
       "      <td>1278000.0</td>\n",
       "      <td>1288000.0</td>\n",
       "      <td>1299000.0</td>\n",
       "      <td>1311000.0</td>\n",
       "      <td>1294000.0</td>\n",
       "    </tr>\n",
       "    <tr>\n",
       "      <th>1955</th>\n",
       "      <td>1323000.0</td>\n",
       "      <td>1334000.0</td>\n",
       "      <td>1347000.0</td>\n",
       "      <td>1362000.0</td>\n",
       "      <td>1341500.0</td>\n",
       "    </tr>\n",
       "  </tbody>\n",
       "</table>\n",
       "</div>"
      ],
      "text/plain": [
       "         Jan. 1     Apr. 1     Jul. 1     Oct. 1       mean\n",
       "Year                                                       \n",
       "1951        NaN        NaN  1168000.0  1179000.0  1173500.0\n",
       "1952  1189000.0  1198000.0  1209000.0  1222000.0  1204500.0\n",
       "1953  1233000.0  1242000.0  1253000.0  1265000.0  1248250.0\n",
       "1954  1278000.0  1288000.0  1299000.0  1311000.0  1294000.0\n",
       "1955  1323000.0  1334000.0  1347000.0  1362000.0  1341500.0"
      ]
     },
     "execution_count": 7,
     "metadata": {},
     "output_type": "execute_result"
    }
   ],
   "source": [
    "BCPopDF['mean'] = BCPopDF.mean(axis=1)\n",
    "BCPopDF.head()"
   ]
  },
  {
   "cell_type": "code",
   "execution_count": 8,
   "metadata": {},
   "outputs": [
    {
     "data": {
      "text/plain": [
       "<matplotlib.axes._subplots.AxesSubplot at 0x7ff2aad0e2b0>"
      ]
     },
     "execution_count": 8,
     "metadata": {},
     "output_type": "execute_result"
    },
    {
     "data": {
      "image/png": "[encoded data removed]",
      "text/plain": [
       "<Figure size 1152x720 with 1 Axes>"
      ]
     },
     "metadata": {
      "needs_background": "light"
     },
     "output_type": "display_data"
    }
   ],
   "source": [
    "BCPopDF['mean'].plot(figsize=(16,10))"
   ]
  },
  {
   "cell_type": "code",
   "execution_count": 11,
   "metadata": {},
   "outputs": [
    {
     "data": {
      "text/html": [
       "<div>\n",
       "<style scoped>\n",
       "    .dataframe tbody tr th:only-of-type {\n",
       "        vertical-align: middle;\n",
       "    }\n",
       "\n",
       "    .dataframe tbody tr th {\n",
       "        vertical-align: top;\n",
       "    }\n",
       "\n",
       "    .dataframe thead th {\n",
       "        text-align: right;\n",
       "    }\n",
       "</style>\n",
       "<table border=\"1\" class=\"dataframe\">\n",
       "  <thead>\n",
       "    <tr style=\"text-align: right;\">\n",
       "      <th></th>\n",
       "      <th>Jan. 1</th>\n",
       "      <th>Apr. 1</th>\n",
       "      <th>Jul. 1</th>\n",
       "      <th>Oct. 1</th>\n",
       "    </tr>\n",
       "  </thead>\n",
       "  <tbody>\n",
       "    <tr>\n",
       "      <th>Jan. 1</th>\n",
       "      <td>1.000000</td>\n",
       "      <td>0.999992</td>\n",
       "      <td>0.999959</td>\n",
       "      <td>0.999890</td>\n",
       "    </tr>\n",
       "    <tr>\n",
       "      <th>Apr. 1</th>\n",
       "      <td>0.999992</td>\n",
       "      <td>1.000000</td>\n",
       "      <td>0.999986</td>\n",
       "      <td>0.999937</td>\n",
       "    </tr>\n",
       "    <tr>\n",
       "      <th>Jul. 1</th>\n",
       "      <td>0.999959</td>\n",
       "      <td>0.999986</td>\n",
       "      <td>1.000000</td>\n",
       "      <td>0.999981</td>\n",
       "    </tr>\n",
       "    <tr>\n",
       "      <th>Oct. 1</th>\n",
       "      <td>0.999890</td>\n",
       "      <td>0.999937</td>\n",
       "      <td>0.999981</td>\n",
       "      <td>1.000000</td>\n",
       "    </tr>\n",
       "  </tbody>\n",
       "</table>\n",
       "</div>"
      ],
      "text/plain": [
       "          Jan. 1    Apr. 1    Jul. 1    Oct. 1\n",
       "Jan. 1  1.000000  0.999992  0.999959  0.999890\n",
       "Apr. 1  0.999992  1.000000  0.999986  0.999937\n",
       "Jul. 1  0.999959  0.999986  1.000000  0.999981\n",
       "Oct. 1  0.999890  0.999937  0.999981  1.000000"
      ]
     },
     "execution_count": 11,
     "metadata": {},
     "output_type": "execute_result"
    }
   ],
   "source": [
    "BCPopDF.drop('mean', axis=1).corr()"
   ]
  },
  {
   "cell_type": "code",
   "execution_count": null,
   "metadata": {},
   "outputs": [],
   "source": []
  }
 ],
 "metadata": {
  "kernelspec": {
   "display_name": "Python 3",
   "language": "python",
   "name": "python3"
  },
  "language_info": {
   "codemirror_mode": {
    "name": "ipython",
    "version": 3
   },
   "file_extension": ".py",
   "mimetype": "text/x-python",
   "name": "python",
   "nbconvert_exporter": "python",
   "pygments_lexer": "ipython3",
   "version": "3.6.6"
  }
 },
 "nbformat": 4,
 "nbformat_minor": 2
}
